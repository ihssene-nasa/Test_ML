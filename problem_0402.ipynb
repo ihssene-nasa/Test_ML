{
 "cells": [
  {
   "cell_type": "markdown",
   "metadata": {},
   "source": [
    "## Quiz #0402"
   ]
  },
  {
   "cell_type": "markdown",
   "metadata": {},
   "source": [
    "### \"OLS solution\""
   ]
  },
  {
   "cell_type": "code",
   "execution_count": 2,
   "metadata": {},
   "outputs": [],
   "source": [
    "import numpy as np\n",
    "import pandas as pd"
   ]
  },
  {
   "cell_type": "markdown",
   "metadata": {},
   "source": [
    "#### Answer the following question by providing Python code:\n",
    "<br>\n",
    "study = an array that contains the hours of study. This is the explanatory variable. <br>\n",
    "score = an array that contains the test scores. This is the response variable."
   ]
  },
  {
   "cell_type": "code",
   "execution_count": 3,
   "metadata": {},
   "outputs": [],
   "source": [
    "study = np.array([ 3, 4.5, 6, 1.2, 2, 6.9, 6.7, 5.5]).reshape(-1,1)\n",
    "score = np.array([ 88, 85, 90, 80, 81, 92, 95, 90]).reshape(-1,1)"
   ]
  },
  {
   "cell_type": "markdown",
   "metadata": {},
   "source": [
    "1). Define the 'linerRegression' class to match the output shown below:"
   ]
  },
  {
   "cell_type": "code",
   "execution_count": 33,
   "metadata": {},
   "outputs": [],
   "source": [
    "from sklearn.linear_model import LinearRegression\n",
    "class linearRegression:\n",
    "    \n",
    "    def __init__(self):\n",
    "        \n",
    "        return\n",
    "    \n",
    "    def train(self, input_X, input_Y):  \n",
    "        \n",
    "        #compact solution using matrices : \n",
    "        \n",
    "        rows =  input_X.shape[0]  # get the number of observations\n",
    "        \n",
    "        cols = input_X.shape[1]   #get the number of the explanatory variables \n",
    "        \n",
    "        vector = np.ones((rows,1)) \n",
    "        \n",
    "        X = np.concatenate((vector,input_X),axis= 1)  # Use the training dataset and get the set of model parameters {βi}\n",
    "        \n",
    "        Y = input_Y # calculate the value of Y which was unknown\n",
    "        \n",
    "        #Regression coeffs by OLS\n",
    "        \n",
    "        self.b = np.dot(np.linalg.inv(np.dot(X.T,X)),np.dot(X.T,Y))  # formula of beta (the best solution) : β = (XT.X)−XT.Y\n",
    "        \n",
    "        #Residuals to detect outliers\n",
    "        \n",
    "        self.residuals = Y- np.dot(X,self.b)   # the residuals are computed from a sample of n observations of X and Y\n",
    "        \n",
    "        #R^2\n",
    "        \n",
    "        SSE = np.dot((self.residuals).T, self.residuals) #The sum of squares total\n",
    "        \n",
    "        SST = np.dot((Y - Y.mean()).T, (Y-Y.mean()))     #The sum of squares error\n",
    "        \n",
    "        self.R2 = 1.0 - SSE[0][0]/SST[0][0]   #R² = 1 - (SSE/SST), if there is one explanatory variable X then : R² = Cor(X,Y)²\n",
    "        \n",
    "        #Training results\n",
    "        \n",
    "        self.result = pd.DataFrame(self.b,columns = ['Coefficient'])\n",
    "        \n",
    "        labels = ['Intercept']\n",
    "        \n",
    "        for j in range(1,cols+1) : \n",
    "            \n",
    "            labels +=['X' + str(j)]\n",
    "            \n",
    "        self.result.index = labels \n",
    "        \n",
    "        return\n",
    "    \n",
    "    def output(self):\n",
    "        \n",
    "        print(self.result)\n",
    "        \n",
    "        print(\"------------------------------\")\n",
    "        \n",
    "        print(\"R^2 : %f\" % self.R2)"
   ]
  },
  {
   "cell_type": "markdown",
   "metadata": {},
   "source": [
    "**Sample run:**"
   ]
  },
  {
   "cell_type": "code",
   "execution_count": 35,
   "metadata": {},
   "outputs": [
    {
     "name": "stdout",
     "output_type": "stream",
     "text": [
      "           Coefficient\n",
      "Intercept    77.684670\n",
      "X1            2.221303\n",
      "------------------------------\n",
      "R^2 : 0.845842\n"
     ]
    }
   ],
   "source": [
    "LR = linearRegression()                    # Create a linear regression object.\n",
    "LR.train(study, score)                     # Train.\n",
    "LR.output()                                # Display the training result."
   ]
  },
  {
   "cell_type": "code",
   "execution_count": null,
   "metadata": {},
   "outputs": [],
   "source": []
  }
 ],
 "metadata": {
  "kernelspec": {
   "display_name": "Python 3",
   "language": "python",
   "name": "python3"
  },
  "language_info": {
   "codemirror_mode": {
    "name": "ipython",
    "version": 3
   },
   "file_extension": ".py",
   "mimetype": "text/x-python",
   "name": "python",
   "nbconvert_exporter": "python",
   "pygments_lexer": "ipython3",
   "version": "3.8.5"
  },
  "toc": {
   "base_numbering": 1,
   "nav_menu": {},
   "number_sections": true,
   "sideBar": true,
   "skip_h1_title": false,
   "title_cell": "Table of Contents",
   "title_sidebar": "Contents",
   "toc_cell": false,
   "toc_position": {},
   "toc_section_display": true,
   "toc_window_display": false
  },
  "varInspector": {
   "cols": {
    "lenName": 16,
    "lenType": 16,
    "lenVar": 40
   },
   "kernels_config": {
    "python": {
     "delete_cmd_postfix": "",
     "delete_cmd_prefix": "del ",
     "library": "var_list.py",
     "varRefreshCmd": "print(var_dic_list())"
    },
    "r": {
     "delete_cmd_postfix": ") ",
     "delete_cmd_prefix": "rm(",
     "library": "var_list.r",
     "varRefreshCmd": "cat(var_dic_list()) "
    }
   },
   "types_to_exclude": [
    "module",
    "function",
    "builtin_function_or_method",
    "instance",
    "_Feature"
   ],
   "window_display": false
  }
 },
 "nbformat": 4,
 "nbformat_minor": 2
}
