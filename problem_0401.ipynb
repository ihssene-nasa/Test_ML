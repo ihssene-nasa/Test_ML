{
 "cells": [
  {
   "cell_type": "markdown",
   "metadata": {},
   "source": [
    "## Quiz #0401"
   ]
  },
  {
   "cell_type": "markdown",
   "metadata": {},
   "source": [
    "### \"Optimal number of clusters for K-means clustering\""
   ]
  },
  {
   "cell_type": "code",
   "execution_count": 57,
   "metadata": {},
   "outputs": [],
   "source": [
    "import numpy as np\n",
    "import pandas as pd\n",
    "import matplotlib.pyplot as plt\n",
    "from sklearn.datasets import make_blobs\n",
    "from sklearn.cluster import KMeans\n",
    "%matplotlib inline"
   ]
  },
  {
   "cell_type": "markdown",
   "metadata": {},
   "source": [
    "#### Answer the following question by providing Python code:"
   ]
  },
  {
   "cell_type": "code",
   "execution_count": 58,
   "metadata": {},
   "outputs": [
    {
     "data": {
      "text/plain": [
       "(150, 8)"
      ]
     },
     "execution_count": 58,
     "metadata": {},
     "output_type": "execute_result"
    }
   ],
   "source": [
    "# We will use simulated data.\n",
    "# 3 clusters in 8 dimensional space.\n",
    "# Hard to visualize!\n",
    "X, label = make_blobs(n_samples=150, n_features=8, centers=3, cluster_std = 2, random_state=123)\n",
    "X.shape"
   ]
  },
  {
   "cell_type": "markdown",
   "metadata": {},
   "source": [
    "1). Define a function that calculates the \"total internal sum of squares\".\n",
    "- X         :   Data.\n",
    "- centers   :   Array that contains the centroid coordinates. Calculated by kmeans.\n",
    "- clusters  :   Array of cluster labels. Calculated by kmeans. <br> <br>\n",
    "HINT: Implement the formula from the lecture note."
   ]
  },
  {
   "cell_type": "code",
   "execution_count": 81,
   "metadata": {},
   "outputs": [
    {
     "name": "stdout",
     "output_type": "stream",
     "text": [
      "K-means Centroids :  [[-0.45058073 -1.95855821 -2.81289371  4.64334117 -1.61152497 -8.70234723\n",
      "  -2.26657376  4.98800128]\n",
      " [-6.09715151 -6.62338226  0.64332419  0.51743229  2.50758482  6.98957767\n",
      "   4.47094678  1.79021736]\n",
      " [ 3.90017709 -4.49107153 -5.42803149  0.79601424  4.29469615 -1.81457648\n",
      "   9.51919598  3.41269781]]\n"
     ]
    }
   ],
   "source": [
    "data = X\n",
    "kmeans = KMeans(n_clusters=3, random_state=0)  #Cluster our data by choosing 5 as number of clusters\n",
    "kmeans.fit(data)\n",
    "centers = kmeans.cluster_centers_\n",
    "clusters = kmeans.labels_\n",
    "print(\"K-means Centroids : \", centers)"
   ]
  },
  {
   "cell_type": "code",
   "execution_count": 82,
   "metadata": {},
   "outputs": [
    {
     "name": "stdout",
     "output_type": "stream",
     "text": [
      "K-mean Labels :  [1 0 2 1 0 1 2 0 1 2 1 2 0 2 2 0 0 2 0 1 0 2 2 2 2 1 1 1 2 1 2 1 0 2 0 2 0\n",
      " 1 2 0 0 2 1 1 1 2 0 0 2 0 2 2 1 0 2 1 2 2 0 1 0 1 1 1 0 1 1 2 1 0 0 1 0 2\n",
      " 1 0 0 1 1 1 0 0 0 0 2 1 1 2 1 0 2 0 1 1 0 1 2 0 2 2 1 0 0 1 1 2 1 2 0 2 0\n",
      " 1 1 2 1 1 2 2 2 2 1 0 2 1 2 2 1 2 0 0 2 0 0 2 1 2 0 0 0 1 2 1 0 0 0 2 1 0\n",
      " 0 2]\n"
     ]
    }
   ],
   "source": [
    "print(\"K-mean Labels : \", clusters)"
   ]
  },
  {
   "cell_type": "code",
   "execution_count": 86,
   "metadata": {},
   "outputs": [
    {
     "data": {
      "text/plain": [
       "3083.9219806745105"
      ]
     },
     "execution_count": 86,
     "metadata": {},
     "output_type": "execute_result"
    }
   ],
   "source": [
    "def total_internal_ss(X, centers, clusters):\n",
    "    \n",
    "    no_clust = centers.shape[0]  #Get the number of clusters\n",
    "    \n",
    "    no_cent = centers.shape[1]   #Get the number of centers\n",
    "    \n",
    "    no_rows = X.shape[0]         #Get the number of rows\n",
    "    \n",
    "    knneighbors = np.zeros((no_rows, no_cent))\n",
    "    \n",
    "    for i in range(no_clust):\n",
    "        \n",
    "        indices = (clusters == i)\n",
    "        \n",
    "        for j in range(no_cent):\n",
    "            \n",
    "            knneighbors[indices,j] = centers[i,j] # The nearest centroid to the our observation\n",
    "            \n",
    "    return np.sum((X-knneighbors)**2)\n",
    "\n",
    "total_internal_ss(X, centers, clusters)"
   ]
  },
  {
   "cell_type": "markdown",
   "metadata": {},
   "source": [
    "2). Visualize as a Scatter plot the \"total internal sum of squares\" vs N# of clusters. \n",
    "- Then, determine the optimal number of clusters.\n",
    "- Is this number the same as expected?"
   ]
  },
  {
   "cell_type": "code",
   "execution_count": 91,
   "metadata": {
    "scrolled": true
   },
   "outputs": [
    {
     "data": {
      "image/png": "[encoded data removed]",
      "text/plain": [
       "<Figure size 432x288 with 1 Axes>"
      ]
     },
     "metadata": {
      "needs_background": "light"
     },
     "output_type": "display_data"
    }
   ],
   "source": [
    "array_cluster = np.array(range(1,15)) # Array that contains the number of clusters\n",
    "\n",
    "array_total = np.array([]) # Array that contains the total internal sum of squares\n",
    "\n",
    "for i in array_cluster:\n",
    "    \n",
    "    model = KMeans(n_clusters=i)\n",
    "    \n",
    "    clusters = model.fit(X).labels_\n",
    "    \n",
    "    centers = model.cluster_centers_\n",
    "    \n",
    "    array_total = np.append(array_total, total_internal_ss(X,centers,clusters))\n",
    "    \n",
    "plt.plot(array_cluster,array_total,color='blue',marker='o')\n",
    "plt.title('The Elbow Method')\n",
    "plt.show()"
   ]
  },
  {
   "cell_type": "code",
   "execution_count": null,
   "metadata": {},
   "outputs": [],
   "source": [
    "# The optimal number of clusters is 3 from the elbow plot, and we expected 3 clusters at the beginning so yeah!"
   ]
  }
 ],
 "metadata": {
  "kernelspec": {
   "display_name": "Python 3",
   "language": "python",
   "name": "python3"
  },
  "language_info": {
   "codemirror_mode": {
    "name": "ipython",
    "version": 3
   },
   "file_extension": ".py",
   "mimetype": "text/x-python",
   "name": "python",
   "nbconvert_exporter": "python",
   "pygments_lexer": "ipython3",
   "version": "3.8.5"
  },
  "toc": {
   "base_numbering": 1,
   "nav_menu": {},
   "number_sections": true,
   "sideBar": true,
   "skip_h1_title": false,
   "title_cell": "Table of Contents",
   "title_sidebar": "Contents",
   "toc_cell": false,
   "toc_position": {},
   "toc_section_display": true,
   "toc_window_display": false
  },
  "varInspector": {
   "cols": {
    "lenName": 16,
    "lenType": 16,
    "lenVar": 40
   },
   "kernels_config": {
    "python": {
     "delete_cmd_postfix": "",
     "delete_cmd_prefix": "del ",
     "library": "var_list.py",
     "varRefreshCmd": "print(var_dic_list())"
    },
    "r": {
     "delete_cmd_postfix": ") ",
     "delete_cmd_prefix": "rm(",
     "library": "var_list.r",
     "varRefreshCmd": "cat(var_dic_list()) "
    }
   },
   "types_to_exclude": [
    "module",
    "function",
    "builtin_function_or_method",
    "instance",
    "_Feature"
   ],
   "window_display": false
  }
 },
 "nbformat": 4,
 "nbformat_minor": 2
}
